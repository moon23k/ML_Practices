{
 "cells": [
  {
   "cell_type": "code",
   "execution_count": 2,
   "metadata": {},
   "outputs": [],
   "source": [
    "import keras\n",
    "from keras.datasets import mnist\n",
    "from keras.models import Sequential\n",
    "from keras.layers import Dense, Dropout, Flatten\n",
    "from keras.layers import Conv2D, MaxPooling2D\n",
    "from keras import backend as K"
   ]
  },
  {
   "cell_type": "code",
   "execution_count": 3,
   "metadata": {},
   "outputs": [
    {
     "name": "stdout",
     "output_type": "stream",
     "text": [
      "Downloading data from https://storage.googleapis.com/tensorflow/tf-keras-datasets/mnist.npz\n",
      "11493376/11490434 [==============================] - 2s 0us/step\n"
     ]
    }
   ],
   "source": [
    "batch_size = 128\n",
    "num_classes = 10\n",
    "epochs = 12\n",
    "\n",
    "# input image dimensions\n",
    "img_rows, img_cols = 28, 28\n",
    "\n",
    "# the data, split between train and test sets\n",
    "(x_train, y_train), (x_test, y_test) = mnist.load_data()\n",
    "\n",
    "if K.image_data_format() == 'channels_first':\n",
    "    x_train = x_train.reshape(x_train.shape[0], 1, img_rows, img_cols)\n",
    "    x_test = x_test.reshape(x_test.shape[0], 1, img_rows, img_cols)\n",
    "    input_shape = (1, img_rows, img_cols)\n",
    "else:\n",
    "    x_train = x_train.reshape(x_train.shape[0], img_rows, img_cols, 1)\n",
    "    x_test = x_test.reshape(x_test.shape[0], img_rows, img_cols, 1)\n",
    "    input_shape = (img_rows, img_cols, 1)\n",
    "    \n",
    "    \n",
    "x_train = x_train.astype('float32')\n",
    "x_test = x_test.astype('float32')"
   ]
  },
  {
   "cell_type": "code",
   "execution_count": 4,
   "metadata": {},
   "outputs": [
    {
     "data": {
      "text/plain": [
       "numpy.ndarray"
      ]
     },
     "execution_count": 4,
     "metadata": {},
     "output_type": "execute_result"
    }
   ],
   "source": [
    "type(x_train)"
   ]
  },
  {
   "cell_type": "code",
   "execution_count": 9,
   "metadata": {},
   "outputs": [
    {
     "name": "stdout",
     "output_type": "stream",
     "text": [
      "x_train shape :  (60000, 28, 28, 1)\n",
      "60000 train samples\n",
      "10000 test samples\n"
     ]
    }
   ],
   "source": [
    "x_train /= 255\n",
    "x_test /= 255\n",
    "\n",
    "print('x_train shape : ', x_train.shape)\n",
    "print(x_train.shape[0], 'train samples')\n",
    "print(x_test.shape[0], 'test samples')"
   ]
  },
  {
   "cell_type": "code",
   "execution_count": 11,
   "metadata": {},
   "outputs": [],
   "source": [
    "# convert classs vectors to binary class matrices\n",
    "\n",
    "y_train = keras.utils.to_categorical(y_train, num_classes)\n",
    "y_test = keras.utils.to_categorical(y_test, num_classes)\n",
    "\n",
    "model = Sequential()\n",
    "model.add(Conv2D(32, kernel_size=(3,3), activation='relu', input_shape=input_shape))\n",
    "model.add(Conv2D(64, (3,3), activation='relu'))\n",
    "model.add(MaxPooling2D(pool_size=(2,2)))\n",
    "model.add(Dropout(0.25))\n",
    "model.add(Flatten())\n",
    "model.add(Dense(128, activation='relu'))\n",
    "model.add(Dropout(0.5))\n",
    "model.add(Dense(num_classes, activation='softmax'))\n",
    "\n",
    "model.compile(loss=keras.losses.categorical_crossentropy, optimizer=keras.optimizers.Adadelta(), metrics=['accuracy'])"
   ]
  },
  {
   "cell_type": "code",
   "execution_count": 12,
   "metadata": {},
   "outputs": [
    {
     "name": "stdout",
     "output_type": "stream",
     "text": [
      "Epoch 1/12\n",
      "469/469 [==============================] - 61s 131ms/step - loss: 2.2753 - accuracy: 0.1583 - val_loss: 2.2272 - val_accuracy: 0.3080\n",
      "Epoch 2/12\n",
      "469/469 [==============================] - 64s 136ms/step - loss: 2.1972 - accuracy: 0.2828 - val_loss: 2.1338 - val_accuracy: 0.5064\n",
      "Epoch 3/12\n",
      "469/469 [==============================] - 64s 136ms/step - loss: 2.1037 - accuracy: 0.4020 - val_loss: 2.0183 - val_accuracy: 0.5926\n",
      "Epoch 4/12\n",
      "469/469 [==============================] - 64s 135ms/step - loss: 1.9873 - accuracy: 0.4789 - val_loss: 1.8741 - val_accuracy: 0.6561\n",
      "Epoch 5/12\n",
      "469/469 [==============================] - 64s 136ms/step - loss: 1.8447 - accuracy: 0.5379 - val_loss: 1.7010 - val_accuracy: 0.7098\n",
      "Epoch 6/12\n",
      "469/469 [==============================] - 64s 137ms/step - loss: 1.6873 - accuracy: 0.5753 - val_loss: 1.5119 - val_accuracy: 0.7467\n",
      "Epoch 7/12\n",
      "469/469 [==============================] - 64s 136ms/step - loss: 1.5249 - accuracy: 0.6061 - val_loss: 1.3241 - val_accuracy: 0.7698\n",
      "Epoch 8/12\n",
      "469/469 [==============================] - 63s 135ms/step - loss: 1.3745 - accuracy: 0.6321 - val_loss: 1.1552 - val_accuracy: 0.7944\n",
      "Epoch 9/12\n",
      "469/469 [==============================] - 66s 141ms/step - loss: 1.2431 - accuracy: 0.6591 - val_loss: 1.0131 - val_accuracy: 0.8126\n",
      "Epoch 10/12\n",
      "469/469 [==============================] - 65s 138ms/step - loss: 1.1367 - accuracy: 0.6778 - val_loss: 0.8988 - val_accuracy: 0.8242\n",
      "Epoch 11/12\n",
      "469/469 [==============================] - 64s 137ms/step - loss: 1.0498 - accuracy: 0.6945 - val_loss: 0.8085 - val_accuracy: 0.8340\n",
      "Epoch 12/12\n",
      "469/469 [==============================] - 66s 140ms/step - loss: 0.9780 - accuracy: 0.7137 - val_loss: 0.7361 - val_accuracy: 0.8423\n",
      "Test Loss :  0.7361370325088501\n",
      "Test Accuracy :  0.8422999978065491\n"
     ]
    }
   ],
   "source": [
    "model.fit(x_train, y_train, batch_size=batch_size, epochs=epochs, verbose=1, validation_data=(x_test, y_test))\n",
    "score = model.evaluate(x_test, y_test, verbose=0)\n",
    "\n",
    "print('Test Loss : ', score[0])\n",
    "print('Test Accuracy : ', score[1])"
   ]
  },
  {
   "cell_type": "code",
   "execution_count": 13,
   "metadata": {},
   "outputs": [
    {
     "name": "stdout",
     "output_type": "stream",
     "text": [
      "[[0.0341425  0.003853   0.04849679 0.02797868 0.47792557 0.0362823\n",
      "  0.04579176 0.09748461 0.04281399 0.18523076]]\n",
      "4\n"
     ]
    }
   ],
   "source": [
    "import numpy as np\n",
    "\n",
    "result = model.predict(np.array([x_test[4]]))\n",
    "result_number = np.argmax(result)\n",
    "\n",
    "print(result)\n",
    "print(result_number)"
   ]
  },
  {
   "cell_type": "code",
   "execution_count": null,
   "metadata": {},
   "outputs": [],
   "source": []
  }
 ],
 "metadata": {
  "kernelspec": {
   "display_name": "Python 3",
   "language": "python",
   "name": "python3"
  },
  "language_info": {
   "codemirror_mode": {
    "name": "ipython",
    "version": 3
   },
   "file_extension": ".py",
   "mimetype": "text/x-python",
   "name": "python",
   "nbconvert_exporter": "python",
   "pygments_lexer": "ipython3",
   "version": "3.8.5"
  }
 },
 "nbformat": 4,
 "nbformat_minor": 4
}
