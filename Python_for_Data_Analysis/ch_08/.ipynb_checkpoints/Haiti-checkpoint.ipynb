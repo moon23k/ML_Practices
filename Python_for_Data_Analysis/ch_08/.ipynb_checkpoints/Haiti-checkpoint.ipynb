{
 "cells": [
  {
   "cell_type": "code",
   "execution_count": 1,
   "metadata": {},
   "outputs": [
    {
     "name": "stderr",
     "output_type": "stream",
     "text": [
      "\n",
      "Bad key \"text.kerning_factor\" on line 4 in\n",
      "/home/moon23k/anaconda3/envs/Basic_conda_env/lib/python3.8/site-packages/matplotlib/mpl-data/stylelib/_classic_test_patch.mplstyle.\n",
      "You probably need to get an updated matplotlibrc file from\n",
      "https://github.com/matplotlib/matplotlib/blob/v3.1.2/matplotlibrc.template\n",
      "or from the matplotlib source distribution\n"
     ]
    }
   ],
   "source": [
    "import matplotlib.pyplot as plt\n",
    "import numpy as np\n",
    "import pandas as pd\n",
    "from matplotlib import style\n",
    "\n",
    "%matplotlib inline\n",
    "\n",
    "plt.style.use('ggplot')"
   ]
  },
  {
   "cell_type": "code",
   "execution_count": 2,
   "metadata": {},
   "outputs": [
    {
     "name": "stdout",
     "output_type": "stream",
     "text": [
      "<class 'pandas.core.frame.DataFrame'>\n",
      "RangeIndex: 3593 entries, 0 to 3592\n",
      "Data columns (total 10 columns):\n",
      " #   Column          Non-Null Count  Dtype  \n",
      "---  ------          --------------  -----  \n",
      " 0   Serial          3593 non-null   int64  \n",
      " 1   INCIDENT TITLE  3593 non-null   object \n",
      " 2   INCIDENT DATE   3593 non-null   object \n",
      " 3   LOCATION        3592 non-null   object \n",
      " 4   DESCRIPTION     3593 non-null   object \n",
      " 5   CATEGORY        3587 non-null   object \n",
      " 6   LATITUDE        3593 non-null   float64\n",
      " 7   LONGITUDE       3593 non-null   float64\n",
      " 8   APPROVED        3593 non-null   object \n",
      " 9   VERIFIED        3593 non-null   object \n",
      "dtypes: float64(2), int64(1), object(7)\n",
      "memory usage: 280.8+ KB\n"
     ]
    }
   ],
   "source": [
    "data = pd.read_csv('data/Haiti.csv')\n",
    "data.info()"
   ]
  },
  {
   "cell_type": "code",
   "execution_count": 3,
   "metadata": {},
   "outputs": [
    {
     "data": {
      "text/html": [
       "<div>\n",
       "<style scoped>\n",
       "    .dataframe tbody tr th:only-of-type {\n",
       "        vertical-align: middle;\n",
       "    }\n",
       "\n",
       "    .dataframe tbody tr th {\n",
       "        vertical-align: top;\n",
       "    }\n",
       "\n",
       "    .dataframe thead th {\n",
       "        text-align: right;\n",
       "    }\n",
       "</style>\n",
       "<table border=\"1\" class=\"dataframe\">\n",
       "  <thead>\n",
       "    <tr style=\"text-align: right;\">\n",
       "      <th></th>\n",
       "      <th>INCIDENT DATE</th>\n",
       "      <th>LATITUDE</th>\n",
       "      <th>LONGITUDE</th>\n",
       "    </tr>\n",
       "  </thead>\n",
       "  <tbody>\n",
       "    <tr>\n",
       "      <th>0</th>\n",
       "      <td>05/07/2010 17:26</td>\n",
       "      <td>18.233333</td>\n",
       "      <td>-72.533333</td>\n",
       "    </tr>\n",
       "    <tr>\n",
       "      <th>1</th>\n",
       "      <td>28/06/2010 23:06</td>\n",
       "      <td>50.226029</td>\n",
       "      <td>5.729886</td>\n",
       "    </tr>\n",
       "    <tr>\n",
       "      <th>2</th>\n",
       "      <td>24/06/2010 16:21</td>\n",
       "      <td>22.278381</td>\n",
       "      <td>114.174287</td>\n",
       "    </tr>\n",
       "    <tr>\n",
       "      <th>3</th>\n",
       "      <td>20/06/2010 21:59</td>\n",
       "      <td>44.407062</td>\n",
       "      <td>8.933989</td>\n",
       "    </tr>\n",
       "    <tr>\n",
       "      <th>4</th>\n",
       "      <td>18/05/2010 16:26</td>\n",
       "      <td>18.571084</td>\n",
       "      <td>-72.334671</td>\n",
       "    </tr>\n",
       "    <tr>\n",
       "      <th>5</th>\n",
       "      <td>26/04/2010 13:14</td>\n",
       "      <td>18.593707</td>\n",
       "      <td>-72.310079</td>\n",
       "    </tr>\n",
       "    <tr>\n",
       "      <th>6</th>\n",
       "      <td>26/04/2010 14:19</td>\n",
       "      <td>18.482800</td>\n",
       "      <td>-73.638800</td>\n",
       "    </tr>\n",
       "    <tr>\n",
       "      <th>7</th>\n",
       "      <td>26/04/2010 14:27</td>\n",
       "      <td>18.415000</td>\n",
       "      <td>-73.195000</td>\n",
       "    </tr>\n",
       "    <tr>\n",
       "      <th>8</th>\n",
       "      <td>15/03/2010 10:58</td>\n",
       "      <td>18.517443</td>\n",
       "      <td>-72.236841</td>\n",
       "    </tr>\n",
       "    <tr>\n",
       "      <th>9</th>\n",
       "      <td>15/03/2010 11:00</td>\n",
       "      <td>18.547790</td>\n",
       "      <td>-72.410010</td>\n",
       "    </tr>\n",
       "  </tbody>\n",
       "</table>\n",
       "</div>"
      ],
      "text/plain": [
       "      INCIDENT DATE   LATITUDE   LONGITUDE\n",
       "0  05/07/2010 17:26  18.233333  -72.533333\n",
       "1  28/06/2010 23:06  50.226029    5.729886\n",
       "2  24/06/2010 16:21  22.278381  114.174287\n",
       "3  20/06/2010 21:59  44.407062    8.933989\n",
       "4  18/05/2010 16:26  18.571084  -72.334671\n",
       "5  26/04/2010 13:14  18.593707  -72.310079\n",
       "6  26/04/2010 14:19  18.482800  -73.638800\n",
       "7  26/04/2010 14:27  18.415000  -73.195000\n",
       "8  15/03/2010 10:58  18.517443  -72.236841\n",
       "9  15/03/2010 11:00  18.547790  -72.410010"
      ]
     },
     "execution_count": 3,
     "metadata": {},
     "output_type": "execute_result"
    }
   ],
   "source": [
    "data[['INCIDENT DATE', 'LATITUDE', 'LONGITUDE']][:10]"
   ]
  },
  {
   "cell_type": "code",
   "execution_count": 4,
   "metadata": {},
   "outputs": [
    {
     "data": {
      "text/plain": [
       "0          1. Urgences | Emergency, 3. Public Health, \n",
       "1    1. Urgences | Emergency, 2. Urgences logistiqu...\n",
       "2    2. Urgences logistiques | Vital Lines, 8. Autr...\n",
       "3                            1. Urgences | Emergency, \n",
       "4                            1. Urgences | Emergency, \n",
       "5                       5e. Communication lines down, \n",
       "Name: CATEGORY, dtype: object"
      ]
     },
     "execution_count": 4,
     "metadata": {},
     "output_type": "execute_result"
    }
   ],
   "source": [
    "data['CATEGORY'][:6]"
   ]
  },
  {
   "cell_type": "markdown",
   "metadata": {},
   "source": [
    "이 데이터릐 요약을 보면 몇몇 카테고리가 빠져있는 것을 확인할 수 있다.\n",
    "카테고리가 누락된 데이터를 제외시키고 describe 메서드를 호풀하여 이상한 위치값을 지닌 것이 있는지 확인해본다"
   ]
  },
  {
   "cell_type": "code",
   "execution_count": 5,
   "metadata": {},
   "outputs": [
    {
     "data": {
      "text/html": [
       "<div>\n",
       "<style scoped>\n",
       "    .dataframe tbody tr th:only-of-type {\n",
       "        vertical-align: middle;\n",
       "    }\n",
       "\n",
       "    .dataframe tbody tr th {\n",
       "        vertical-align: top;\n",
       "    }\n",
       "\n",
       "    .dataframe thead th {\n",
       "        text-align: right;\n",
       "    }\n",
       "</style>\n",
       "<table border=\"1\" class=\"dataframe\">\n",
       "  <thead>\n",
       "    <tr style=\"text-align: right;\">\n",
       "      <th></th>\n",
       "      <th>Serial</th>\n",
       "      <th>LATITUDE</th>\n",
       "      <th>LONGITUDE</th>\n",
       "    </tr>\n",
       "  </thead>\n",
       "  <tbody>\n",
       "    <tr>\n",
       "      <th>count</th>\n",
       "      <td>3593.000000</td>\n",
       "      <td>3593.000000</td>\n",
       "      <td>3593.000000</td>\n",
       "    </tr>\n",
       "    <tr>\n",
       "      <th>mean</th>\n",
       "      <td>2080.277484</td>\n",
       "      <td>18.611495</td>\n",
       "      <td>-72.322680</td>\n",
       "    </tr>\n",
       "    <tr>\n",
       "      <th>std</th>\n",
       "      <td>1171.100360</td>\n",
       "      <td>0.738572</td>\n",
       "      <td>3.650776</td>\n",
       "    </tr>\n",
       "    <tr>\n",
       "      <th>min</th>\n",
       "      <td>4.000000</td>\n",
       "      <td>18.041313</td>\n",
       "      <td>-74.452757</td>\n",
       "    </tr>\n",
       "    <tr>\n",
       "      <th>25%</th>\n",
       "      <td>1074.000000</td>\n",
       "      <td>18.524070</td>\n",
       "      <td>-72.417500</td>\n",
       "    </tr>\n",
       "    <tr>\n",
       "      <th>50%</th>\n",
       "      <td>2163.000000</td>\n",
       "      <td>18.539269</td>\n",
       "      <td>-72.335000</td>\n",
       "    </tr>\n",
       "    <tr>\n",
       "      <th>75%</th>\n",
       "      <td>3088.000000</td>\n",
       "      <td>18.561820</td>\n",
       "      <td>-72.293570</td>\n",
       "    </tr>\n",
       "    <tr>\n",
       "      <th>max</th>\n",
       "      <td>4052.000000</td>\n",
       "      <td>50.226029</td>\n",
       "      <td>114.174287</td>\n",
       "    </tr>\n",
       "  </tbody>\n",
       "</table>\n",
       "</div>"
      ],
      "text/plain": [
       "            Serial     LATITUDE    LONGITUDE\n",
       "count  3593.000000  3593.000000  3593.000000\n",
       "mean   2080.277484    18.611495   -72.322680\n",
       "std    1171.100360     0.738572     3.650776\n",
       "min       4.000000    18.041313   -74.452757\n",
       "25%    1074.000000    18.524070   -72.417500\n",
       "50%    2163.000000    18.539269   -72.335000\n",
       "75%    3088.000000    18.561820   -72.293570\n",
       "max    4052.000000    50.226029   114.174287"
      ]
     },
     "execution_count": 5,
     "metadata": {},
     "output_type": "execute_result"
    }
   ],
   "source": [
    "data.describe()"
   ]
  },
  {
   "cell_type": "markdown",
   "metadata": {},
   "source": [
    "잘못된 위치 정보와 누락된 카테고리는 다음처럼 간단하게 제거 할 수 있다."
   ]
  },
  {
   "cell_type": "code",
   "execution_count": 6,
   "metadata": {},
   "outputs": [
    {
     "data": {
      "text/html": [
       "<div>\n",
       "<style scoped>\n",
       "    .dataframe tbody tr th:only-of-type {\n",
       "        vertical-align: middle;\n",
       "    }\n",
       "\n",
       "    .dataframe tbody tr th {\n",
       "        vertical-align: top;\n",
       "    }\n",
       "\n",
       "    .dataframe thead th {\n",
       "        text-align: right;\n",
       "    }\n",
       "</style>\n",
       "<table border=\"1\" class=\"dataframe\">\n",
       "  <thead>\n",
       "    <tr style=\"text-align: right;\">\n",
       "      <th></th>\n",
       "      <th>Serial</th>\n",
       "      <th>INCIDENT TITLE</th>\n",
       "      <th>INCIDENT DATE</th>\n",
       "      <th>LOCATION</th>\n",
       "      <th>DESCRIPTION</th>\n",
       "      <th>CATEGORY</th>\n",
       "      <th>LATITUDE</th>\n",
       "      <th>LONGITUDE</th>\n",
       "      <th>APPROVED</th>\n",
       "      <th>VERIFIED</th>\n",
       "    </tr>\n",
       "  </thead>\n",
       "  <tbody>\n",
       "    <tr>\n",
       "      <th>0</th>\n",
       "      <td>4052</td>\n",
       "      <td>* URGENT * Type O blood donations needed in #J...</td>\n",
       "      <td>05/07/2010 17:26</td>\n",
       "      <td>Jacmel, Haiti</td>\n",
       "      <td>Birthing Clinic in Jacmel #Haiti urgently need...</td>\n",
       "      <td>1. Urgences | Emergency, 3. Public Health,</td>\n",
       "      <td>18.233333</td>\n",
       "      <td>-72.533333</td>\n",
       "      <td>YES</td>\n",
       "      <td>NO</td>\n",
       "    </tr>\n",
       "    <tr>\n",
       "      <th>4</th>\n",
       "      <td>4042</td>\n",
       "      <td>Citi Soleil school</td>\n",
       "      <td>18/05/2010 16:26</td>\n",
       "      <td>Citi Soleil, Haiti</td>\n",
       "      <td>We are working with Haitian (NGO) -The Christi...</td>\n",
       "      <td>1. Urgences | Emergency,</td>\n",
       "      <td>18.571084</td>\n",
       "      <td>-72.334671</td>\n",
       "      <td>YES</td>\n",
       "      <td>NO</td>\n",
       "    </tr>\n",
       "    <tr>\n",
       "      <th>5</th>\n",
       "      <td>4041</td>\n",
       "      <td>Radio Commerce in Sarthe</td>\n",
       "      <td>26/04/2010 13:14</td>\n",
       "      <td>Radio Commerce Shelter, Sarthe</td>\n",
       "      <td>i'm Louinel from Sarthe. I'd to know what can ...</td>\n",
       "      <td>5e. Communication lines down,</td>\n",
       "      <td>18.593707</td>\n",
       "      <td>-72.310079</td>\n",
       "      <td>YES</td>\n",
       "      <td>NO</td>\n",
       "    </tr>\n",
       "    <tr>\n",
       "      <th>6</th>\n",
       "      <td>4040</td>\n",
       "      <td>Contaminated water in Baraderes.</td>\n",
       "      <td>26/04/2010 14:19</td>\n",
       "      <td>Marc near Baraderes</td>\n",
       "      <td>How do we treat water in areas without Pipe?\\t...</td>\n",
       "      <td>4. Menaces | Security Threats, 4e. Assainissem...</td>\n",
       "      <td>18.482800</td>\n",
       "      <td>-73.638800</td>\n",
       "      <td>YES</td>\n",
       "      <td>NO</td>\n",
       "    </tr>\n",
       "    <tr>\n",
       "      <th>7</th>\n",
       "      <td>4039</td>\n",
       "      <td>Violence at &amp;quot;arcahaie bas Saint-Ard&amp;quot;</td>\n",
       "      <td>26/04/2010 14:27</td>\n",
       "      <td>unable to find &amp;quot;arcahaie bas Saint-Ard&amp;qu...</td>\n",
       "      <td>Goodnight at (arcahaie bas Saint-Ard) 2 young ...</td>\n",
       "      <td>4. Menaces | Security Threats,</td>\n",
       "      <td>18.415000</td>\n",
       "      <td>-73.195000</td>\n",
       "      <td>YES</td>\n",
       "      <td>NO</td>\n",
       "    </tr>\n",
       "    <tr>\n",
       "      <th>8</th>\n",
       "      <td>4038</td>\n",
       "      <td>No electricity in pernier</td>\n",
       "      <td>15/03/2010 10:58</td>\n",
       "      <td>Pernier</td>\n",
       "      <td>why the people who lives in pernier doesn't fi...</td>\n",
       "      <td>2. Urgences logistiques | Vital Lines, 2f. San...</td>\n",
       "      <td>18.517443</td>\n",
       "      <td>-72.236841</td>\n",
       "      <td>YES</td>\n",
       "      <td>NO</td>\n",
       "    </tr>\n",
       "    <tr>\n",
       "      <th>9</th>\n",
       "      <td>4037</td>\n",
       "      <td>Shelter and food needed at Lamentin 54 and Rue...</td>\n",
       "      <td>15/03/2010 11:00</td>\n",
       "      <td>Intersection of Lamentin 54 and Rue St Juste</td>\n",
       "      <td>GOOD EVENING ONG, I'M VERY HAPPY FOR THE AID Y...</td>\n",
       "      <td>2. Urgences logistiques | Vital Lines, 2d. Ref...</td>\n",
       "      <td>18.547790</td>\n",
       "      <td>-72.410010</td>\n",
       "      <td>YES</td>\n",
       "      <td>NO</td>\n",
       "    </tr>\n",
       "    <tr>\n",
       "      <th>10</th>\n",
       "      <td>4036</td>\n",
       "      <td>Food needed, House collapsed in 1ere Section S...</td>\n",
       "      <td>15/03/2010 14:18</td>\n",
       "      <td>Assumed 1ere Section Salagnac and Salagnac de ...</td>\n",
       "      <td>i'm living in Nip Department, First section sa...</td>\n",
       "      <td>1a. Highly vulnerable, 2. Urgences logistiques...</td>\n",
       "      <td>18.415000</td>\n",
       "      <td>-73.195000</td>\n",
       "      <td>YES</td>\n",
       "      <td>NO</td>\n",
       "    </tr>\n",
       "    <tr>\n",
       "      <th>11</th>\n",
       "      <td>4035</td>\n",
       "      <td>Clogged toilet in canape vert</td>\n",
       "      <td>19/03/2010 10:19</td>\n",
       "      <td>Canape Vert</td>\n",
       "      <td>Please give the message for with the concern O...</td>\n",
       "      <td>4. Menaces | Security Threats, 4e. Assainissem...</td>\n",
       "      <td>18.539513</td>\n",
       "      <td>-72.327118</td>\n",
       "      <td>YES</td>\n",
       "      <td>NO</td>\n",
       "    </tr>\n",
       "    <tr>\n",
       "      <th>12</th>\n",
       "      <td>4034</td>\n",
       "      <td>Tent shelter and food needed on Lapot St. Carr...</td>\n",
       "      <td>22/03/2010 10:49</td>\n",
       "      <td>unable to find street, mapped to Carrefour</td>\n",
       "      <td>We need tent, cover, rice. Uneted Nation never...</td>\n",
       "      <td>2. Urgences logistiques | Vital Lines, 2d. Ref...</td>\n",
       "      <td>18.534260</td>\n",
       "      <td>-72.408960</td>\n",
       "      <td>YES</td>\n",
       "      <td>NO</td>\n",
       "    </tr>\n",
       "  </tbody>\n",
       "</table>\n",
       "</div>"
      ],
      "text/plain": [
       "    Serial                                     INCIDENT TITLE  \\\n",
       "0     4052  * URGENT * Type O blood donations needed in #J...   \n",
       "4     4042                                 Citi Soleil school   \n",
       "5     4041                           Radio Commerce in Sarthe   \n",
       "6     4040                   Contaminated water in Baraderes.   \n",
       "7     4039     Violence at &quot;arcahaie bas Saint-Ard&quot;   \n",
       "8     4038                          No electricity in pernier   \n",
       "9     4037  Shelter and food needed at Lamentin 54 and Rue...   \n",
       "10    4036  Food needed, House collapsed in 1ere Section S...   \n",
       "11    4035                      Clogged toilet in canape vert   \n",
       "12    4034  Tent shelter and food needed on Lapot St. Carr...   \n",
       "\n",
       "       INCIDENT DATE                                           LOCATION  \\\n",
       "0   05/07/2010 17:26                                      Jacmel, Haiti   \n",
       "4   18/05/2010 16:26                                 Citi Soleil, Haiti   \n",
       "5   26/04/2010 13:14                     Radio Commerce Shelter, Sarthe   \n",
       "6   26/04/2010 14:19                                Marc near Baraderes   \n",
       "7   26/04/2010 14:27  unable to find &quot;arcahaie bas Saint-Ard&qu...   \n",
       "8   15/03/2010 10:58                                            Pernier   \n",
       "9   15/03/2010 11:00       Intersection of Lamentin 54 and Rue St Juste   \n",
       "10  15/03/2010 14:18  Assumed 1ere Section Salagnac and Salagnac de ...   \n",
       "11  19/03/2010 10:19                                        Canape Vert   \n",
       "12  22/03/2010 10:49         unable to find street, mapped to Carrefour   \n",
       "\n",
       "                                          DESCRIPTION  \\\n",
       "0   Birthing Clinic in Jacmel #Haiti urgently need...   \n",
       "4   We are working with Haitian (NGO) -The Christi...   \n",
       "5   i'm Louinel from Sarthe. I'd to know what can ...   \n",
       "6   How do we treat water in areas without Pipe?\\t...   \n",
       "7   Goodnight at (arcahaie bas Saint-Ard) 2 young ...   \n",
       "8   why the people who lives in pernier doesn't fi...   \n",
       "9   GOOD EVENING ONG, I'M VERY HAPPY FOR THE AID Y...   \n",
       "10  i'm living in Nip Department, First section sa...   \n",
       "11  Please give the message for with the concern O...   \n",
       "12  We need tent, cover, rice. Uneted Nation never...   \n",
       "\n",
       "                                             CATEGORY   LATITUDE  LONGITUDE  \\\n",
       "0         1. Urgences | Emergency, 3. Public Health,   18.233333 -72.533333   \n",
       "4                           1. Urgences | Emergency,   18.571084 -72.334671   \n",
       "5                      5e. Communication lines down,   18.593707 -72.310079   \n",
       "6   4. Menaces | Security Threats, 4e. Assainissem...  18.482800 -73.638800   \n",
       "7                     4. Menaces | Security Threats,   18.415000 -73.195000   \n",
       "8   2. Urgences logistiques | Vital Lines, 2f. San...  18.517443 -72.236841   \n",
       "9   2. Urgences logistiques | Vital Lines, 2d. Ref...  18.547790 -72.410010   \n",
       "10  1a. Highly vulnerable, 2. Urgences logistiques...  18.415000 -73.195000   \n",
       "11  4. Menaces | Security Threats, 4e. Assainissem...  18.539513 -72.327118   \n",
       "12  2. Urgences logistiques | Vital Lines, 2d. Ref...  18.534260 -72.408960   \n",
       "\n",
       "   APPROVED VERIFIED  \n",
       "0       YES       NO  \n",
       "4       YES       NO  \n",
       "5       YES       NO  \n",
       "6       YES       NO  \n",
       "7       YES       NO  \n",
       "8       YES       NO  \n",
       "9       YES       NO  \n",
       "10      YES       NO  \n",
       "11      YES       NO  \n",
       "12      YES       NO  "
      ]
     },
     "execution_count": 6,
     "metadata": {},
     "output_type": "execute_result"
    }
   ],
   "source": [
    "data = data[(data.LATITUDE > 18) & (data.LATITUDE < 20) & (data.LONGITUDE > -75) & \n",
    "            (data.LONGITUDE < -70) & data.CATEGORY.notnull()]\n",
    "\n",
    "data.head(10)"
   ]
  },
  {
   "cell_type": "markdown",
   "metadata": {},
   "source": [
    "이제 카테고리별 분석이나 시각화를 해보자.\n",
    "각 카테고리 필드에는 다수의 카테고리가 존재할 수 있다.\n",
    "그리고 각 카테고리는 코드와 영어, 불어 코드 이름으로 구성되어 있다.\n",
    "그래서 데이터를 좀 더 쉽게 처리할 수 있도록 약간의 수고가 필요하다.\n",
    "존재하는 모든 카테고리를 추출해서 카테고리 코드와 영어 이름으로 분히되도록 다음과 같은 함수를 작성한다."
   ]
  },
  {
   "cell_type": "code",
   "execution_count": 7,
   "metadata": {},
   "outputs": [],
   "source": [
    "def to_cat_list(catstr):\n",
    "    stripped = (x.strip() for x in catstr.split(','))\n",
    "    return [x for x in stripped if x]\n",
    "\n",
    "def get_all_categories(cat_series):\n",
    "    cat_sets = (set(to_cat_list(x)) for x in cat_series)\n",
    "    return sorted(set.union(*cat_sets))\n",
    "\n",
    "def get_english(cat):\n",
    "    code, names = cat.split('.')\n",
    "    if '|' in names:\n",
    "        names = names.split(' | ')[1]\n",
    "    return code, names.strip()"
   ]
  },
  {
   "cell_type": "markdown",
   "metadata": {},
   "source": [
    "get_english 함수 정상 동작 테스트"
   ]
  },
  {
   "cell_type": "code",
   "execution_count": 8,
   "metadata": {},
   "outputs": [
    {
     "data": {
      "text/plain": [
       "('2', 'Vital Lines')"
      ]
     },
     "execution_count": 8,
     "metadata": {},
     "output_type": "execute_result"
    }
   ],
   "source": [
    "get_english('2. Urgences logistiques | Vital Lines')"
   ]
  },
  {
   "cell_type": "code",
   "execution_count": 9,
   "metadata": {},
   "outputs": [
    {
     "name": "stdout",
     "output_type": "stream",
     "text": [
      "Food Shortage\n",
      "Earthquake and aftershocks\n"
     ]
    }
   ],
   "source": [
    "all_cats = get_all_categories(data.CATEGORY)\n",
    "\n",
    "english_mapping = dict(get_english(x) for x in all_cats)\n",
    "\n",
    "print(english_mapping['2a'])\n",
    "# this is food shortage\n",
    "\n",
    "print(english_mapping['6c'])\n",
    "# Earthquake and aftershock"
   ]
  },
  {
   "cell_type": "markdown",
   "metadata": {},
   "source": [
    "카테고리 별로 내역을 쉽게 모을 수 있도록 데이터를 확장하는 다양한 방법이 있다.\n",
    "그 중 하나는 식별용(더미) 컬럼을 각 카테고리에 하나씩 추가하는 것인데,\n",
    "그러려면 먼저 중복되지 않는 카테고리 코드를 뽑아낸 다음 data와 같은 색인을 갖는\n",
    "DataFrame 객체에 값을 모두 0으로 채워넣어야 한다."
   ]
  },
  {
   "cell_type": "code",
   "execution_count": 10,
   "metadata": {},
   "outputs": [],
   "source": [
    "def get_code(seq):\n",
    "    return [x.split('.')[0] for x in seq if x]\n",
    "\n",
    "all_codes = get_code(all_cats)\n",
    "code_index = pd.Index(np.unique(all_codes))\n",
    "dummy_frame = pd.DataFrame(np.zeros((len(data), len(code_index))), index=data.index, columns=code_index)"
   ]
  },
  {
   "cell_type": "code",
   "execution_count": 11,
   "metadata": {},
   "outputs": [
    {
     "name": "stdout",
     "output_type": "stream",
     "text": [
      "<class 'pandas.core.frame.DataFrame'>\n",
      "Int64Index: 3569 entries, 0 to 3592\n",
      "Data columns (total 6 columns):\n",
      " #   Column  Non-Null Count  Dtype  \n",
      "---  ------  --------------  -----  \n",
      " 0   1       3569 non-null   float64\n",
      " 1   1a      3569 non-null   float64\n",
      " 2   1b      3569 non-null   float64\n",
      " 3   1c      3569 non-null   float64\n",
      " 4   1d      3569 non-null   float64\n",
      " 5   2       3569 non-null   float64\n",
      "dtypes: float64(6)\n",
      "memory usage: 195.2 KB\n"
     ]
    }
   ],
   "source": [
    "dummy_frame.iloc[:, :6].info()"
   ]
  },
  {
   "cell_type": "markdown",
   "metadata": {},
   "source": [
    "여기에 적절한 로우는 1로 설정하고 마지막에 data와 조인한다."
   ]
  },
  {
   "cell_type": "code",
   "execution_count": 12,
   "metadata": {},
   "outputs": [],
   "source": [
    "for row, cat in zip(data.index, data.CATEGORY):\n",
    "    codes = get_code(to_cat_list(cat))\n",
    "    dummy_frame.loc[row, codes] = 1\n",
    "\n",
    "data = data.join(dummy_frame.add_prefix('category_'))"
   ]
  },
  {
   "cell_type": "code",
   "execution_count": 13,
   "metadata": {},
   "outputs": [
    {
     "name": "stdout",
     "output_type": "stream",
     "text": [
      "<class 'pandas.core.frame.DataFrame'>\n",
      "Int64Index: 3569 entries, 0 to 3592\n",
      "Data columns (total 5 columns):\n",
      " #   Column       Non-Null Count  Dtype  \n",
      "---  ------       --------------  -----  \n",
      " 0   category_1   3569 non-null   float64\n",
      " 1   category_1a  3569 non-null   float64\n",
      " 2   category_1b  3569 non-null   float64\n",
      " 3   category_1c  3569 non-null   float64\n",
      " 4   category_1d  3569 non-null   float64\n",
      "dtypes: float64(5)\n",
      "memory usage: 327.3 KB\n"
     ]
    }
   ],
   "source": [
    "data.iloc[:, 10:15].info()"
   ]
  },
  {
   "cell_type": "markdown",
   "metadata": {},
   "source": [
    "데이터의 정제는 어느정도 완료되었으니,이제 데이터를 기반으로 도표를 만들 차례이다.\n",
    "이 데이터는 지리 정보이므로 카테고리별 데이터를 아이티 지도 위에 그린다.\n",
    "matplotlib의 확장 툴킷인 basemap 틀킷을 사용해서 파이썬으로 지도 위에 2차원 데이터 도표를 그릴 수 있다.\n",
    "basemap은 여러가지 지도 투영법을 지원하며 위도 경도 좌표를 2차원 평면 matplotlib의 좌표로 변환 가능하다.\n",
    "이 데이터를 가지고 간단한 흑백 아이티 지도를 그리는 함수를 작성한다."
   ]
  },
  {
   "cell_type": "code",
   "execution_count": 14,
   "metadata": {},
   "outputs": [],
   "source": [
    "import sys\n",
    "from mpl_toolkits.basemap import Basemap"
   ]
  },
  {
   "cell_type": "code",
   "execution_count": 22,
   "metadata": {},
   "outputs": [],
   "source": [
    "def basic_haiti_map(ax=None, lllat=17.25, urlat=20.25, lllon=-75, urlon=-71):\n",
    "    m = Basemap(ax=ax, projection='stere',\n",
    "               lon_0=(urlon + lllon) /2,\n",
    "               lat_0=(urlat + lllat) /2,\n",
    "               llcrnrlat=lllat, urcrnrlat=urlat,\n",
    "               llcrnrlon=lllon, urcrnrlon=urlon,\n",
    "               resolution='i')\n",
    "    \n",
    "    m.drawcoastlines()\n",
    "    m.drawstates()\n",
    "    m.drawcountries()\n",
    "    return m"
   ]
  },
  {
   "cell_type": "code",
   "execution_count": 23,
   "metadata": {},
   "outputs": [
    {
     "name": "stderr",
     "output_type": "stream",
     "text": [
      "<ipython-input-22-32e1ee2bae3a>:2: MatplotlibDeprecationWarning: \n",
      "The dedent function was deprecated in Matplotlib 3.1 and will be removed in 3.3. Use inspect.cleandoc instead.\n",
      "  m = Basemap(ax=ax, projection='stere',\n"
     ]
    },
    {
     "ename": "OSError",
     "evalue": "Unable to open boundary dataset file. Only the 'crude' and  'low',\nresolution datasets are installed by default.\nIf you are requesting an, 'intermediate', 'high' or 'full'\nresolution dataset, you may need to download and install those\nfiles separately with\n`conda install basemap-data-hires`.",
     "output_type": "error",
     "traceback": [
      "\u001b[0;31m---------------------------------------------------------------------------\u001b[0m",
      "\u001b[0;31mFileNotFoundError\u001b[0m                         Traceback (most recent call last)",
      "\u001b[0;32m~/anaconda3/envs/Basic_conda_env/lib/python3.8/site-packages/mpl_toolkits/basemap/__init__.py\u001b[0m in \u001b[0;36m_readboundarydata\u001b[0;34m(self, name, as_polygons)\u001b[0m\n\u001b[1;32m   1232\u001b[0m         \u001b[0;32mtry\u001b[0m\u001b[0;34m:\u001b[0m\u001b[0;34m\u001b[0m\u001b[0;34m\u001b[0m\u001b[0m\n\u001b[0;32m-> 1233\u001b[0;31m             \u001b[0mbdatfile\u001b[0m \u001b[0;34m=\u001b[0m \u001b[0mopen\u001b[0m\u001b[0;34m(\u001b[0m\u001b[0mos\u001b[0m\u001b[0;34m.\u001b[0m\u001b[0mpath\u001b[0m\u001b[0;34m.\u001b[0m\u001b[0mjoin\u001b[0m\u001b[0;34m(\u001b[0m\u001b[0mbasemap_datadir\u001b[0m\u001b[0;34m,\u001b[0m\u001b[0mname\u001b[0m\u001b[0;34m+\u001b[0m\u001b[0;34m'_'\u001b[0m\u001b[0;34m+\u001b[0m\u001b[0mself\u001b[0m\u001b[0;34m.\u001b[0m\u001b[0mresolution\u001b[0m\u001b[0;34m+\u001b[0m\u001b[0;34m'.dat'\u001b[0m\u001b[0;34m)\u001b[0m\u001b[0;34m,\u001b[0m\u001b[0;34m'rb'\u001b[0m\u001b[0;34m)\u001b[0m\u001b[0;34m\u001b[0m\u001b[0;34m\u001b[0m\u001b[0m\n\u001b[0m\u001b[1;32m   1234\u001b[0m             \u001b[0mbdatmetafile\u001b[0m \u001b[0;34m=\u001b[0m \u001b[0mopen\u001b[0m\u001b[0;34m(\u001b[0m\u001b[0mos\u001b[0m\u001b[0;34m.\u001b[0m\u001b[0mpath\u001b[0m\u001b[0;34m.\u001b[0m\u001b[0mjoin\u001b[0m\u001b[0;34m(\u001b[0m\u001b[0mbasemap_datadir\u001b[0m\u001b[0;34m,\u001b[0m\u001b[0mname\u001b[0m\u001b[0;34m+\u001b[0m\u001b[0;34m'meta_'\u001b[0m\u001b[0;34m+\u001b[0m\u001b[0mself\u001b[0m\u001b[0;34m.\u001b[0m\u001b[0mresolution\u001b[0m\u001b[0;34m+\u001b[0m\u001b[0;34m'.dat'\u001b[0m\u001b[0;34m)\u001b[0m\u001b[0;34m,\u001b[0m\u001b[0;34m'r'\u001b[0m\u001b[0;34m)\u001b[0m\u001b[0;34m\u001b[0m\u001b[0;34m\u001b[0m\u001b[0m\n",
      "\u001b[0;31mFileNotFoundError\u001b[0m: [Errno 2] No such file or directory: '/home/moon23k/anaconda3/envs/Basic_conda_env/share/basemap/gshhs_i.dat'",
      "\nDuring handling of the above exception, another exception occurred:\n",
      "\u001b[0;31mOSError\u001b[0m                                   Traceback (most recent call last)",
      "\u001b[0;32m<ipython-input-23-b67842c2f58a>\u001b[0m in \u001b[0;36m<module>\u001b[0;34m\u001b[0m\n\u001b[1;32m     10\u001b[0m \u001b[0;34m\u001b[0m\u001b[0m\n\u001b[1;32m     11\u001b[0m \u001b[0;32mfor\u001b[0m \u001b[0mcode\u001b[0m\u001b[0;34m,\u001b[0m \u001b[0max\u001b[0m \u001b[0;32min\u001b[0m \u001b[0mzip\u001b[0m\u001b[0;34m(\u001b[0m\u001b[0mto_plot\u001b[0m\u001b[0;34m,\u001b[0m \u001b[0maxes\u001b[0m\u001b[0;34m.\u001b[0m\u001b[0mflat\u001b[0m\u001b[0;34m)\u001b[0m\u001b[0;34m:\u001b[0m\u001b[0;34m\u001b[0m\u001b[0;34m\u001b[0m\u001b[0m\n\u001b[0;32m---> 12\u001b[0;31m     \u001b[0mm\u001b[0m \u001b[0;34m=\u001b[0m \u001b[0mbasic_haiti_map\u001b[0m\u001b[0;34m(\u001b[0m\u001b[0max\u001b[0m\u001b[0;34m,\u001b[0m \u001b[0mlllat\u001b[0m\u001b[0;34m=\u001b[0m\u001b[0mlllat\u001b[0m\u001b[0;34m,\u001b[0m \u001b[0murlat\u001b[0m\u001b[0;34m=\u001b[0m\u001b[0murlat\u001b[0m\u001b[0;34m,\u001b[0m \u001b[0mlllon\u001b[0m\u001b[0;34m=\u001b[0m\u001b[0mlllon\u001b[0m\u001b[0;34m,\u001b[0m \u001b[0murlon\u001b[0m\u001b[0;34m=\u001b[0m\u001b[0murlon\u001b[0m\u001b[0;34m)\u001b[0m\u001b[0;34m\u001b[0m\u001b[0;34m\u001b[0m\u001b[0m\n\u001b[0m\u001b[1;32m     13\u001b[0m     \u001b[0mcat_data\u001b[0m \u001b[0;34m=\u001b[0m \u001b[0mdata\u001b[0m\u001b[0;34m[\u001b[0m\u001b[0mdata\u001b[0m\u001b[0;34m[\u001b[0m\u001b[0;34m'category_%s'\u001b[0m \u001b[0;34m%\u001b[0m \u001b[0mcode\u001b[0m\u001b[0;34m]\u001b[0m \u001b[0;34m==\u001b[0m \u001b[0;36m1\u001b[0m\u001b[0;34m]\u001b[0m\u001b[0;34m\u001b[0m\u001b[0;34m\u001b[0m\u001b[0m\n\u001b[1;32m     14\u001b[0m     \u001b[0mx\u001b[0m\u001b[0;34m,\u001b[0m \u001b[0my\u001b[0m \u001b[0;34m=\u001b[0m \u001b[0mm\u001b[0m\u001b[0;34m(\u001b[0m\u001b[0mcat_data\u001b[0m\u001b[0;34m.\u001b[0m\u001b[0mLONGITUDE\u001b[0m\u001b[0;34m,\u001b[0m \u001b[0mcat_data\u001b[0m\u001b[0;34m.\u001b[0m\u001b[0mLATITUDE\u001b[0m\u001b[0;34m.\u001b[0m\u001b[0mvalues\u001b[0m\u001b[0;34m)\u001b[0m\u001b[0;34m\u001b[0m\u001b[0;34m\u001b[0m\u001b[0m\n",
      "\u001b[0;32m<ipython-input-22-32e1ee2bae3a>\u001b[0m in \u001b[0;36mbasic_haiti_map\u001b[0;34m(ax, lllat, urlat, lllon, urlon)\u001b[0m\n\u001b[1;32m      1\u001b[0m \u001b[0;32mdef\u001b[0m \u001b[0mbasic_haiti_map\u001b[0m\u001b[0;34m(\u001b[0m\u001b[0max\u001b[0m\u001b[0;34m=\u001b[0m\u001b[0;32mNone\u001b[0m\u001b[0;34m,\u001b[0m \u001b[0mlllat\u001b[0m\u001b[0;34m=\u001b[0m\u001b[0;36m17.25\u001b[0m\u001b[0;34m,\u001b[0m \u001b[0murlat\u001b[0m\u001b[0;34m=\u001b[0m\u001b[0;36m20.25\u001b[0m\u001b[0;34m,\u001b[0m \u001b[0mlllon\u001b[0m\u001b[0;34m=\u001b[0m\u001b[0;34m-\u001b[0m\u001b[0;36m75\u001b[0m\u001b[0;34m,\u001b[0m \u001b[0murlon\u001b[0m\u001b[0;34m=\u001b[0m\u001b[0;34m-\u001b[0m\u001b[0;36m71\u001b[0m\u001b[0;34m)\u001b[0m\u001b[0;34m:\u001b[0m\u001b[0;34m\u001b[0m\u001b[0;34m\u001b[0m\u001b[0m\n\u001b[0;32m----> 2\u001b[0;31m     m = Basemap(ax=ax, projection='stere',\n\u001b[0m\u001b[1;32m      3\u001b[0m                \u001b[0mlon_0\u001b[0m\u001b[0;34m=\u001b[0m\u001b[0;34m(\u001b[0m\u001b[0murlon\u001b[0m \u001b[0;34m+\u001b[0m \u001b[0mlllon\u001b[0m\u001b[0;34m)\u001b[0m \u001b[0;34m/\u001b[0m\u001b[0;36m2\u001b[0m\u001b[0;34m,\u001b[0m\u001b[0;34m\u001b[0m\u001b[0;34m\u001b[0m\u001b[0m\n\u001b[1;32m      4\u001b[0m                \u001b[0mlat_0\u001b[0m\u001b[0;34m=\u001b[0m\u001b[0;34m(\u001b[0m\u001b[0murlat\u001b[0m \u001b[0;34m+\u001b[0m \u001b[0mlllat\u001b[0m\u001b[0;34m)\u001b[0m \u001b[0;34m/\u001b[0m\u001b[0;36m2\u001b[0m\u001b[0;34m,\u001b[0m\u001b[0;34m\u001b[0m\u001b[0;34m\u001b[0m\u001b[0m\n\u001b[1;32m      5\u001b[0m                \u001b[0mllcrnrlat\u001b[0m\u001b[0;34m=\u001b[0m\u001b[0mlllat\u001b[0m\u001b[0;34m,\u001b[0m \u001b[0murcrnrlat\u001b[0m\u001b[0;34m=\u001b[0m\u001b[0murlat\u001b[0m\u001b[0;34m,\u001b[0m\u001b[0;34m\u001b[0m\u001b[0;34m\u001b[0m\u001b[0m\n",
      "\u001b[0;32m~/anaconda3/envs/Basic_conda_env/lib/python3.8/site-packages/mpl_toolkits/basemap/__init__.py\u001b[0m in \u001b[0;36m__init__\u001b[0;34m(self, llcrnrlon, llcrnrlat, urcrnrlon, urcrnrlat, llcrnrx, llcrnry, urcrnrx, urcrnry, width, height, projection, resolution, area_thresh, rsphere, ellps, lat_ts, lat_1, lat_2, lat_0, lon_0, lon_1, lon_2, o_lon_p, o_lat_p, k_0, no_rot, suppress_ticks, satellite_height, boundinglat, fix_aspect, anchor, celestial, round, epsg, ax)\u001b[0m\n\u001b[1;32m   1120\u001b[0m         \u001b[0;32mif\u001b[0m \u001b[0mself\u001b[0m\u001b[0;34m.\u001b[0m\u001b[0mresolution\u001b[0m \u001b[0;32mis\u001b[0m \u001b[0;32mnot\u001b[0m \u001b[0;32mNone\u001b[0m\u001b[0;34m:\u001b[0m\u001b[0;34m\u001b[0m\u001b[0;34m\u001b[0m\u001b[0m\n\u001b[1;32m   1121\u001b[0m             \u001b[0mself\u001b[0m\u001b[0;34m.\u001b[0m\u001b[0mcoastsegs\u001b[0m\u001b[0;34m,\u001b[0m \u001b[0mself\u001b[0m\u001b[0;34m.\u001b[0m\u001b[0mcoastpolygontypes\u001b[0m \u001b[0;34m=\u001b[0m\u001b[0;31m\\\u001b[0m\u001b[0;34m\u001b[0m\u001b[0;34m\u001b[0m\u001b[0m\n\u001b[0;32m-> 1122\u001b[0;31m             \u001b[0mself\u001b[0m\u001b[0;34m.\u001b[0m\u001b[0m_readboundarydata\u001b[0m\u001b[0;34m(\u001b[0m\u001b[0;34m'gshhs'\u001b[0m\u001b[0;34m,\u001b[0m\u001b[0mas_polygons\u001b[0m\u001b[0;34m=\u001b[0m\u001b[0;32mTrue\u001b[0m\u001b[0;34m)\u001b[0m\u001b[0;34m\u001b[0m\u001b[0;34m\u001b[0m\u001b[0m\n\u001b[0m\u001b[1;32m   1123\u001b[0m             \u001b[0;31m# reformat for use in matplotlib.patches.Polygon.\u001b[0m\u001b[0;34m\u001b[0m\u001b[0;34m\u001b[0m\u001b[0;34m\u001b[0m\u001b[0m\n\u001b[1;32m   1124\u001b[0m             \u001b[0mself\u001b[0m\u001b[0;34m.\u001b[0m\u001b[0mcoastpolygons\u001b[0m \u001b[0;34m=\u001b[0m \u001b[0;34m[\u001b[0m\u001b[0;34m]\u001b[0m\u001b[0;34m\u001b[0m\u001b[0;34m\u001b[0m\u001b[0m\n",
      "\u001b[0;32m~/anaconda3/envs/Basic_conda_env/lib/python3.8/site-packages/mpl_toolkits/basemap/__init__.py\u001b[0m in \u001b[0;36m_readboundarydata\u001b[0;34m(self, name, as_polygons)\u001b[0m\n\u001b[1;32m   1234\u001b[0m             \u001b[0mbdatmetafile\u001b[0m \u001b[0;34m=\u001b[0m \u001b[0mopen\u001b[0m\u001b[0;34m(\u001b[0m\u001b[0mos\u001b[0m\u001b[0;34m.\u001b[0m\u001b[0mpath\u001b[0m\u001b[0;34m.\u001b[0m\u001b[0mjoin\u001b[0m\u001b[0;34m(\u001b[0m\u001b[0mbasemap_datadir\u001b[0m\u001b[0;34m,\u001b[0m\u001b[0mname\u001b[0m\u001b[0;34m+\u001b[0m\u001b[0;34m'meta_'\u001b[0m\u001b[0;34m+\u001b[0m\u001b[0mself\u001b[0m\u001b[0;34m.\u001b[0m\u001b[0mresolution\u001b[0m\u001b[0;34m+\u001b[0m\u001b[0;34m'.dat'\u001b[0m\u001b[0;34m)\u001b[0m\u001b[0;34m,\u001b[0m\u001b[0;34m'r'\u001b[0m\u001b[0;34m)\u001b[0m\u001b[0;34m\u001b[0m\u001b[0;34m\u001b[0m\u001b[0m\n\u001b[1;32m   1235\u001b[0m         \u001b[0;32mexcept\u001b[0m\u001b[0;34m:\u001b[0m\u001b[0;34m\u001b[0m\u001b[0;34m\u001b[0m\u001b[0m\n\u001b[0;32m-> 1236\u001b[0;31m             \u001b[0;32mraise\u001b[0m \u001b[0mIOError\u001b[0m\u001b[0;34m(\u001b[0m\u001b[0mmsg\u001b[0m\u001b[0;34m)\u001b[0m\u001b[0;34m\u001b[0m\u001b[0;34m\u001b[0m\u001b[0m\n\u001b[0m\u001b[1;32m   1237\u001b[0m         \u001b[0mpolygons\u001b[0m \u001b[0;34m=\u001b[0m \u001b[0;34m[\u001b[0m\u001b[0;34m]\u001b[0m\u001b[0;34m\u001b[0m\u001b[0;34m\u001b[0m\u001b[0m\n\u001b[1;32m   1238\u001b[0m         \u001b[0mpolygon_types\u001b[0m \u001b[0;34m=\u001b[0m \u001b[0;34m[\u001b[0m\u001b[0;34m]\u001b[0m\u001b[0;34m\u001b[0m\u001b[0;34m\u001b[0m\u001b[0m\n",
      "\u001b[0;31mOSError\u001b[0m: Unable to open boundary dataset file. Only the 'crude' and  'low',\nresolution datasets are installed by default.\nIf you are requesting an, 'intermediate', 'high' or 'full'\nresolution dataset, you may need to download and install those\nfiles separately with\n`conda install basemap-data-hires`."
     ]
    },
    {
     "data": {
      "image/png": "[encoded data removed]",
      "text/plain": [
       "<Figure size 864x720 with 4 Axes>"
      ]
     },
     "metadata": {},
     "output_type": "display_data"
    }
   ],
   "source": [
    "fig, axes = plt.subplots(nrows=2, ncols=2, figsize=(12, 10))\n",
    "fig.subplots_adjust(hspace=0.05, wspace=0.05)\n",
    "\n",
    "to_plot = ['2a', '1', '3c', '7a']\n",
    "\n",
    "lllat = 17.25\n",
    "urlat = 20.25\n",
    "lllon = -75\n",
    "urlon = -71\n",
    "\n",
    "for code, ax in zip(to_plot, axes.flat):\n",
    "    m = basic_haiti_map(ax, lllat=lllat, urlat=urlat, lllon=lllon, urlon=urlon)\n",
    "    cat_data = data[data['category_%s' % code] == 1]\n",
    "    x, y = m(cat_data.LONGITUDE, cat_data.LATITUDE.values)\n",
    "    \n",
    "    m.plot(x, y, 'k.', alpha=0.5)\n",
    "    ax.set_title('%s: %s' % (code, english_mapping[code]))\n",
    "\n",
    "plt.show()"
   ]
  },
  {
   "cell_type": "code",
   "execution_count": null,
   "metadata": {},
   "outputs": [],
   "source": []
  }
 ],
 "metadata": {
  "kernelspec": {
   "display_name": "Python 3",
   "language": "python",
   "name": "python3"
  },
  "language_info": {
   "codemirror_mode": {
    "name": "ipython",
    "version": 3
   },
   "file_extension": ".py",
   "mimetype": "text/x-python",
   "name": "python",
   "nbconvert_exporter": "python",
   "pygments_lexer": "ipython3",
   "version": "3.8.5"
  }
 },
 "nbformat": 4,
 "nbformat_minor": 4
}
